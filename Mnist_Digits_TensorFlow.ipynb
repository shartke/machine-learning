{
  "nbformat": 4,
  "nbformat_minor": 0,
  "metadata": {
    "colab": {
      "provenance": [],
      "authorship_tag": "ABX9TyOzfvn1e/Ir8TrvZtkZ7B4a",
      "include_colab_link": true
    },
    "kernelspec": {
      "name": "python3",
      "display_name": "Python 3"
    },
    "language_info": {
      "name": "python"
    }
  },
  "cells": [
    {
      "cell_type": "markdown",
      "metadata": {
        "id": "view-in-github",
        "colab_type": "text"
      },
      "source": [
        "<a href=\"https://colab.research.google.com/github/shartke/machine-learning/blob/main/Mnist_Digits_TensorFlow.ipynb\" target=\"_parent\"><img src=\"https://colab.research.google.com/assets/colab-badge.svg\" alt=\"Open In Colab\"/></a>"
      ]
    },
    {
      "cell_type": "markdown",
      "source": [
        "# MINST digits\n",
        "This is a digits example using tensor flow, taken from this tweet\n",
        "https://twitter.com/svpino/status/1577267314914795521?t=3veXWhxSZMHMcYSxO8UigQ&s=19\n"
      ],
      "metadata": {
        "id": "ud6yvBTek0pl"
      }
    },
    {
      "cell_type": "code",
      "source": [
        "import numpy as np\n",
        "import pandas as pd\n",
        "import random \n",
        "import tensorflow as tf"
      ],
      "metadata": {
        "id": "8--nI_lBmlp7"
      },
      "execution_count": null,
      "outputs": []
    }
  ]
}