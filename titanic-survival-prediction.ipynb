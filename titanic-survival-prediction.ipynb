{
 "cells": [
  {
   "cell_type": "code",
   "execution_count": 1,
   "id": "a92ccec5",
   "metadata": {
    "_cell_guid": "b1076dfc-b9ad-4769-8c92-a6c4dae69d19",
    "_uuid": "8f2839f25d086af736a60e9eeb907d3b93b6e0e5",
    "execution": {
     "iopub.execute_input": "2022-10-05T03:47:20.235388Z",
     "iopub.status.busy": "2022-10-05T03:47:20.234630Z",
     "iopub.status.idle": "2022-10-05T03:47:21.924019Z",
     "shell.execute_reply": "2022-10-05T03:47:21.922437Z"
    },
    "papermill": {
     "duration": 1.69989,
     "end_time": "2022-10-05T03:47:21.927859",
     "exception": false,
     "start_time": "2022-10-05T03:47:20.227969",
     "status": "completed"
    },
    "tags": []
   },
   "outputs": [
    {
     "name": "stdout",
     "output_type": "stream",
     "text": [
      "/kaggle/input/titanic/train.csv\n",
      "/kaggle/input/titanic/test.csv\n",
      "/kaggle/input/titanic/gender_submission.csv\n"
     ]
    }
   ],
   "source": [
    "# This Python 3 environment comes with many helpful analytics libraries installed\n",
    "# It is defined by the kaggle/python Docker image: https://github.com/kaggle/docker-python\n",
    "# For example, here's several helpful packages to load\n",
    "\n",
    "import numpy as np # linear algebra\n",
    "import pandas as pd # data processing, CSV file I/O (e.g. pd.read_csv)\n",
    "from sklearn.ensemble import RandomForestClassifier\n",
    "\n",
    "# Input data files are available in the read-only \"../input/\" directory\n",
    "# For example, running this (by clicking run or pressing Shift+Enter) will list all files under the input directory\n",
    "\n",
    "import os\n",
    "for dirname, _, filenames in os.walk('/kaggle/input'):\n",
    "    for filename in filenames:\n",
    "        print(os.path.join(dirname, filename))\n",
    "\n",
    "# You can write up to 20GB to the current directory (/kaggle/working/) that gets preserved as output when you create a version using \"Save & Run All\" \n",
    "# You can also write temporary files to /kaggle/temp/, but they won't be saved outside of the current session"
   ]
  },
  {
   "cell_type": "code",
   "execution_count": null,
   "id": "d1581e88",
   "metadata": {
    "papermill": {
     "duration": 0.004091,
     "end_time": "2022-10-05T03:47:21.936021",
     "exception": false,
     "start_time": "2022-10-05T03:47:21.931930",
     "status": "completed"
    },
    "tags": []
   },
   "outputs": [],
   "source": []
  },
  {
   "cell_type": "markdown",
   "id": "e2f1cc31",
   "metadata": {
    "papermill": {
     "duration": 0.003252,
     "end_time": "2022-10-05T03:47:21.942972",
     "exception": false,
     "start_time": "2022-10-05T03:47:21.939720",
     "status": "completed"
    },
    "tags": []
   },
   "source": [
    "## Load test and train data"
   ]
  },
  {
   "cell_type": "code",
   "execution_count": 2,
   "id": "072ae599",
   "metadata": {
    "execution": {
     "iopub.execute_input": "2022-10-05T03:47:21.952772Z",
     "iopub.status.busy": "2022-10-05T03:47:21.952347Z",
     "iopub.status.idle": "2022-10-05T03:47:21.983247Z",
     "shell.execute_reply": "2022-10-05T03:47:21.982127Z"
    },
    "papermill": {
     "duration": 0.03876,
     "end_time": "2022-10-05T03:47:21.985959",
     "exception": false,
     "start_time": "2022-10-05T03:47:21.947199",
     "status": "completed"
    },
    "tags": []
   },
   "outputs": [],
   "source": [
    "train_data = pd.read_csv('/kaggle/input/titanic/train.csv')\n",
    "test_data = pd.read_csv('/kaggle/input/titanic/test.csv')"
   ]
  },
  {
   "cell_type": "markdown",
   "id": "c60a6fef",
   "metadata": {
    "papermill": {
     "duration": 0.003162,
     "end_time": "2022-10-05T03:47:21.992718",
     "exception": false,
     "start_time": "2022-10-05T03:47:21.989556",
     "status": "completed"
    },
    "tags": []
   },
   "source": [
    "### Impact by gender\n",
    "* Male Survival rate: 19% \n",
    "* Female Survival rate: 74%"
   ]
  },
  {
   "cell_type": "code",
   "execution_count": 3,
   "id": "e605b135",
   "metadata": {
    "execution": {
     "iopub.execute_input": "2022-10-05T03:47:22.001399Z",
     "iopub.status.busy": "2022-10-05T03:47:22.000959Z",
     "iopub.status.idle": "2022-10-05T03:47:22.021618Z",
     "shell.execute_reply": "2022-10-05T03:47:22.019995Z"
    },
    "papermill": {
     "duration": 0.027962,
     "end_time": "2022-10-05T03:47:22.024107",
     "exception": false,
     "start_time": "2022-10-05T03:47:21.996145",
     "status": "completed"
    },
    "tags": []
   },
   "outputs": [
    {
     "name": "stdout",
     "output_type": "stream",
     "text": [
      "Male Survival Rate:  0.18890814558058924\n",
      "Female survival rate 0.7420382165605095\n"
     ]
    }
   ],
   "source": [
    "male_survival_rate_data = train_data.loc[train_data.Sex == 'male']['Survived']\n",
    "\n",
    "male_survival_rate = sum(male_survival_rate_data) / len(male_survival_rate_data)\n",
    "print('Male Survival Rate: ', male_survival_rate)\n",
    "\n",
    "female_survival_rate_data = train_data.loc[train_data.Sex == 'female']['Survived']\n",
    "\n",
    "female_survival_rate = sum(female_survival_rate_data) / len(female_survival_rate_data)\n",
    "print('Female survival rate', female_survival_rate)"
   ]
  },
  {
   "cell_type": "markdown",
   "id": "aa13f7a1",
   "metadata": {
    "papermill": {
     "duration": 0.003155,
     "end_time": "2022-10-05T03:47:22.030964",
     "exception": false,
     "start_time": "2022-10-05T03:47:22.027809",
     "status": "completed"
    },
    "tags": []
   },
   "source": [
    "## Setup Data for classification and setup features"
   ]
  },
  {
   "cell_type": "code",
   "execution_count": 4,
   "id": "d7351f8c",
   "metadata": {
    "execution": {
     "iopub.execute_input": "2022-10-05T03:47:22.039967Z",
     "iopub.status.busy": "2022-10-05T03:47:22.039082Z",
     "iopub.status.idle": "2022-10-05T03:47:22.064426Z",
     "shell.execute_reply": "2022-10-05T03:47:22.063289Z"
    },
    "papermill": {
     "duration": 0.032708,
     "end_time": "2022-10-05T03:47:22.067043",
     "exception": false,
     "start_time": "2022-10-05T03:47:22.034335",
     "status": "completed"
    },
    "tags": []
   },
   "outputs": [],
   "source": [
    "y=train_data['Survived']\n",
    "\n",
    "# Setup featureswe care about\n",
    "features=['Pclass', 'Sex','SibSp', 'Parch']\n",
    "X=pd.get_dummies(train_data[features])\n",
    "X_test = pd.get_dummies(test_data[features])"
   ]
  },
  {
   "cell_type": "markdown",
   "id": "f5ee5b2b",
   "metadata": {
    "papermill": {
     "duration": 0.00337,
     "end_time": "2022-10-05T03:47:22.074226",
     "exception": false,
     "start_time": "2022-10-05T03:47:22.070856",
     "status": "completed"
    },
    "tags": []
   },
   "source": [
    "## Train model and predict"
   ]
  },
  {
   "cell_type": "code",
   "execution_count": 5,
   "id": "a185f9ae",
   "metadata": {
    "execution": {
     "iopub.execute_input": "2022-10-05T03:47:22.083008Z",
     "iopub.status.busy": "2022-10-05T03:47:22.082634Z",
     "iopub.status.idle": "2022-10-05T03:47:22.262655Z",
     "shell.execute_reply": "2022-10-05T03:47:22.261273Z"
    },
    "papermill": {
     "duration": 0.187732,
     "end_time": "2022-10-05T03:47:22.265451",
     "exception": false,
     "start_time": "2022-10-05T03:47:22.077719",
     "status": "completed"
    },
    "tags": []
   },
   "outputs": [
    {
     "data": {
      "text/plain": [
       "RandomForestClassifier(max_depth=5, random_state=1)"
      ]
     },
     "execution_count": 5,
     "metadata": {},
     "output_type": "execute_result"
    }
   ],
   "source": [
    "model = RandomForestClassifier(n_estimators=100, max_depth=5, random_state=1)\n",
    "model.fit(X,y)"
   ]
  },
  {
   "cell_type": "markdown",
   "id": "a70c6ebb",
   "metadata": {
    "papermill": {
     "duration": 0.003349,
     "end_time": "2022-10-05T03:47:22.272628",
     "exception": false,
     "start_time": "2022-10-05T03:47:22.269279",
     "status": "completed"
    },
    "tags": []
   },
   "source": [
    "## Predict and save results"
   ]
  },
  {
   "cell_type": "code",
   "execution_count": 6,
   "id": "e249475a",
   "metadata": {
    "execution": {
     "iopub.execute_input": "2022-10-05T03:47:22.282324Z",
     "iopub.status.busy": "2022-10-05T03:47:22.281874Z",
     "iopub.status.idle": "2022-10-05T03:47:22.317179Z",
     "shell.execute_reply": "2022-10-05T03:47:22.316307Z"
    },
    "papermill": {
     "duration": 0.044225,
     "end_time": "2022-10-05T03:47:22.320660",
     "exception": false,
     "start_time": "2022-10-05T03:47:22.276435",
     "status": "completed"
    },
    "tags": []
   },
   "outputs": [
    {
     "name": "stdout",
     "output_type": "stream",
     "text": [
      "     PassengerId  Survived\n",
      "0            892         0\n",
      "1            893         1\n",
      "2            894         0\n",
      "3            895         0\n",
      "4            896         1\n",
      "..           ...       ...\n",
      "413         1305         0\n",
      "414         1306         1\n",
      "415         1307         0\n",
      "416         1308         0\n",
      "417         1309         0\n",
      "\n",
      "[418 rows x 2 columns]\n",
      "Your submission was successfuly saved!\n"
     ]
    }
   ],
   "source": [
    "predictions = model.predict(X_test)\n",
    "output = pd.DataFrame({'PassengerId': test_data.PassengerId, 'Survived': predictions})\n",
    "\n",
    "print(output)\n",
    "output.to_csv('submission.csv', index=False)\n",
    "print(\"Your submission was successfuly saved!\")\n"
   ]
  }
 ],
 "metadata": {
  "kernelspec": {
   "display_name": "Python 3",
   "language": "python",
   "name": "python3"
  },
  "language_info": {
   "codemirror_mode": {
    "name": "ipython",
    "version": 3
   },
   "file_extension": ".py",
   "mimetype": "text/x-python",
   "name": "python",
   "nbconvert_exporter": "python",
   "pygments_lexer": "ipython3",
   "version": "3.7.12"
  },
  "papermill": {
   "default_parameters": {},
   "duration": 13.493517,
   "end_time": "2022-10-05T03:47:23.146871",
   "environment_variables": {},
   "exception": null,
   "input_path": "__notebook__.ipynb",
   "output_path": "__notebook__.ipynb",
   "parameters": {},
   "start_time": "2022-10-05T03:47:09.653354",
   "version": "2.3.4"
  }
 },
 "nbformat": 4,
 "nbformat_minor": 5
}
